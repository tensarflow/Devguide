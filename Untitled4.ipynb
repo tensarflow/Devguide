{
  "nbformat": 4,
  "nbformat_minor": 0,
  "metadata": {
    "colab": {
      "name": "Untitled4.ipynb",
      "provenance": [],
      "collapsed_sections": [],
      "authorship_tag": "ABX9TyMSG+MgMKIHVjBVyrJN6WQM",
      "include_colab_link": true
    },
    "kernelspec": {
      "name": "python3",
      "display_name": "Python 3"
    }
  },
  "cells": [
    {
      "cell_type": "markdown",
      "metadata": {
        "id": "view-in-github",
        "colab_type": "text"
      },
      "source": [
        "<a href=\"https://colab.research.google.com/github/tensarflow/Devguide/blob/master/Untitled4.ipynb\" target=\"_parent\"><img src=\"https://colab.research.google.com/assets/colab-badge.svg\" alt=\"Open In Colab\"/></a>"
      ]
    },
    {
      "cell_type": "markdown",
      "metadata": {
        "id": "0aGxPKv41tAx",
        "colab_type": "text"
      },
      "source": [
        "Part 1"
      ]
    },
    {
      "cell_type": "code",
      "metadata": {
        "id": "8tROqMQSu3cX",
        "colab_type": "code",
        "colab": {}
      },
      "source": [
        "import tensorflow as tf\n",
        "import numpy as np\n",
        "import matplotlib.pyplot as plt\n",
        "\n",
        "%config InlineBackend.figure_format = 'svg'"
      ],
      "execution_count": null,
      "outputs": []
    },
    {
      "cell_type": "code",
      "metadata": {
        "id": "KwKSHD25vZJV",
        "colab_type": "code",
        "colab": {}
      },
      "source": [
        "learning_rate = 0.01\n",
        "epochs = 200"
      ],
      "execution_count": null,
      "outputs": []
    },
    {
      "cell_type": "code",
      "metadata": {
        "id": "Tn-UgVZMve4x",
        "colab_type": "code",
        "colab": {}
      },
      "source": [
        "n_samples = 30\n",
        "train_x = np.linspace(0, 20, n_samples)\n",
        "train_y = 3 * train_x + 4 * np.random.randn(n_samples) "
      ],
      "execution_count": null,
      "outputs": []
    },
    {
      "cell_type": "code",
      "metadata": {
        "id": "bDKyF0xCv1Ux",
        "colab_type": "code",
        "colab": {}
      },
      "source": [
        "plt.plot(train_x, train_y, 'o')\n",
        "plt.plot(train_x, 3*train_x)\n",
        "plt.show()"
      ],
      "execution_count": null,
      "outputs": []
    },
    {
      "cell_type": "code",
      "metadata": {
        "id": "1UcEIb3OwbwQ",
        "colab_type": "code",
        "colab": {}
      },
      "source": [
        "## Define variables and constants\n",
        "X = tf.placeholder(tf.float32)\n",
        "Y = tf.placeholder(tf.float32)\n",
        "\n",
        "W = tf.Variable(np.random.randn(), name='weights')\n",
        "B = tf.Variable(np.random.randn(), name='bias')"
      ],
      "execution_count": null,
      "outputs": []
    },
    {
      "cell_type": "code",
      "metadata": {
        "id": "sucDnAhZxGOy",
        "colab_type": "code",
        "colab": {}
      },
      "source": [
        "## Create Graph\n",
        "# pred = X * W + B\n",
        "pred = tf.add(tf.multiply(X, W), B)"
      ],
      "execution_count": null,
      "outputs": []
    },
    {
      "cell_type": "code",
      "metadata": {
        "id": "xsfniARgxrhs",
        "colab_type": "code",
        "colab": {}
      },
      "source": [
        "## define cost function and optimizer\n",
        "cost = tf.reduce_sum((pred - Y) ** 2) / (2 * n_samples)\n",
        "optimizer = tf.train.GradientDescentOptimizer(learning_rate).minimize(cost)"
      ],
      "execution_count": null,
      "outputs": []
    },
    {
      "cell_type": "code",
      "metadata": {
        "id": "3OhiXnCAycm1",
        "colab_type": "code",
        "colab": {}
      },
      "source": [
        "## Train\n",
        "init = tf.global_variables_initializer()"
      ],
      "execution_count": null,
      "outputs": []
    },
    {
      "cell_type": "code",
      "metadata": {
        "id": "saIiiA9pynb1",
        "colab_type": "code",
        "colab": {}
      },
      "source": [
        "with tf.Session() as sesh:\n",
        "  sesh.run(init)\n",
        "\n",
        "  for epoch in range(epochs):\n",
        "    for x, y in zip(train_x, train_y):\n",
        "      sesh.run(optimizer, feed_dict={X: x, Y: y})\n",
        "\n",
        "    if not epoch % 20:\n",
        "      c = sesh.run(cost, feed_dict={X: train_x, Y: train_y})\n",
        "      w = sesh.run(W)\n",
        "      b = sesh.run(B)\n",
        "      print(f'epoch: {epoch:04d} c={c:.4f} w={w:.4f} b={b:.4f}')\n",
        "\n",
        "  weight = sesh.run(W)\n",
        "  bias = sesh.run(B)\n",
        "  plt.plot(train_x, train_y, 'o')\n",
        "  plt.plot(train_x, weight * train_x + bias)\n",
        "  plt.show()"
      ],
      "execution_count": null,
      "outputs": []
    },
    {
      "cell_type": "markdown",
      "metadata": {
        "id": "WBVHD8oE1x5l",
        "colab_type": "text"
      },
      "source": [
        "Part 2"
      ]
    },
    {
      "cell_type": "code",
      "metadata": {
        "id": "EHvS3o6czFq4",
        "colab_type": "code",
        "colab": {}
      },
      "source": [
        "import tensorflow as tf\n",
        "import numpy as np\n",
        "import matplotlib.pyplot as plt\n",
        "\n",
        "%config InlineBackend.figure_format = 'svg'"
      ],
      "execution_count": null,
      "outputs": []
    },
    {
      "cell_type": "code",
      "metadata": {
        "id": "fcQ3Omi4129i",
        "colab_type": "code",
        "colab": {
          "base_uri": "https://localhost:8080/",
          "height": 71
        },
        "outputId": "b0d11eda-0a74-453e-df3a-d2ed9406df96"
      },
      "source": [
        "(x_train, y_train), (x_test, y_test) = tf.keras.datasets.mnist.load_data()"
      ],
      "execution_count": null,
      "outputs": [
        {
          "output_type": "stream",
          "text": [
            "Downloading data from https://storage.googleapis.com/tensorflow/tf-keras-datasets/mnist.npz\n",
            "11493376/11490434 [==============================] - 1s 0us/step\n"
          ],
          "name": "stdout"
        }
      ]
    },
    {
      "cell_type": "code",
      "metadata": {
        "id": "TeuXqFI02Bbv",
        "colab_type": "code",
        "colab": {
          "base_uri": "https://localhost:8080/",
          "height": 174
        },
        "outputId": "a139906e-cdcd-48c7-934b-f545ddb3e6ea"
      },
      "source": [
        "fig, axes = plt.subplots(1, 4, figsize = (7, 3))\n",
        "for img, label, ax in zip(x_train[:4], y_train[:4], axes):\n",
        "  ax.set_title(label)\n",
        "  ax.imshow(img)\n",
        "  ax.axis('off')\n",
        "plt.show()"
      ],
      "execution_count": null,
      "outputs": [
        {
          "output_type": "display_data",
          "data": {
            "text/plain": [
              "<Figure size 504x216 with 4 Axes>"
            ],
            "image/svg+xml": "<?xml version=\"1.0\" encoding=\"utf-8\" standalone=\"no\"?>\n<!DOCTYPE svg PUBLIC \"-//W3C//DTD SVG 1.1//EN\"\n  \"http://www.w3.org/Graphics/SVG/1.1/DTD/svg11.dtd\">\n<!-- Created with matplotlib (https://matplotlib.org/) -->\n<svg height=\"114.431168pt\" version=\"1.1\" viewBox=\"0 0 405 114.431168\" width=\"405pt\" xmlns=\"http://www.w3.org/2000/svg\" xmlns:xlink=\"http://www.w3.org/1999/xlink\">\n <defs>\n  <style type=\"text/css\">\n*{stroke-linecap:butt;stroke-linejoin:round;}\n  </style>\n </defs>\n <g id=\"figure_1\">\n  <g id=\"patch_1\">\n   <path d=\"M 0 114.431168 \nL 405 114.431168 \nL 405 0 \nL 0 0 \nz\n\" style=\"fill:none;\"/>\n  </g>\n  <g id=\"axes_1\">\n   <g clip-path=\"url(#p79d3235735)\">\n    <image height=\"85\" id=\"imagec7eadb1921\" transform=\"scale(1 -1)translate(0 -85)\" width=\"85\" x=\"7.2\" xlink:href=\"data:image/png;base64,\niVBORw0KGgoAAAANSUhEUgAAAFUAAABVCAYAAAA49ahaAAAABHNCSVQICAgIfAhkiAAABC9JREFUeJztnFlIVFEYx+91xhqnLDOzjMgmLa0sBaVVLGjzQYKosB4KjIqSkjZ6kMCKIqUFJMpAiAqESiMIWt5KgjalKLJF0oxsmVDJNtGcub1939yaUY/Nv7nF93v6wT1zOv75zu3c5Vx9gb7c0ISgEhbqAfyPSKgAJFQAEioACRWAhApAQgUgoQKwq/6gvmw6+5KyXtsf/5RAXlq9iFz36OTJ+1+Re9wfVYdkOaRSAUioAHTVa/+uxRns29rICxOvki+K+KY0CLengzzr8g7y5N3PyT2f2pX6DCVSqQAkVADK0z8Q9rhR5G2nBpFvclWTr4p0K/W5+W0m+YOyNNOxmKon5N4vX5T6RSOVCkBCBRC06R8I+7ix5O3pceS5+66Tb4xqVO53x/uZ5HdO8Iok+vR9buT1KPcbDKRSAUioAODTPxB2Vzx5Q95o8j2558iXDW5R7rfQzaeC6lI+RQw7c0e5r/4ilQpAQgUQsukfCD0jhby+YAB5+ZwzpnZZjq5e++o0fpCvfLmU/Me8938yxF6RSgUgoQKw3PQPhDfTfO3fsMJBnpLWRH4x8Yrf35e0TiG/lcb3JhAXCFKpACRUAP/M9O8rF5p5ke/UefXw3eDVQs6Wrdzm0r2gj0EqFYCECkD5ub9VsI2MJX+Xm0ju0Gv8tl/flEOOmPK+SKUCkFAB/DPT35hjXvw7i5vJa8Yf8znCdZJ8Yx150l7f9wZagz08E1KpACRUAJae/m1rZ5FXFB02HXPZHb821zRN06ac3UyeXM63+Lobm4I7uB6QSgUgoQKQUAFY7pwaljqJ/FzRIfK6rlhTu6W1/HjEeDiU3HWAb6h0G6G5VySVCkBCBWCJ6W+L4ukbXcbLoLH2CPLVu9aYfjPm/F38wPqJVCoACRWAJab/s5KJ5PXxJ8nzXs8nj6z0f5/UikilApBQAfzV6W+LGU7uaeU9WOFD/L8XVVcxmTzWexs3sCAjlQpAQgUAn/5teXxP9HM2b6+0PU4ir8s6pvljyQbeg1VTEWM65rut0piVSt5UwG1cqx6pDzgISKUCkFABQN6l8t1SmXujllx1G6UvvvumNE3TGr/y6eB0QhV5u5f/nPz4TC0USKUCkFABQP7370zifVHpjjc+Rwb83riPHInr6VYfP1l16vxmtLtgNrn9m/+zXOTbbvKBLfwxB6P2ib/mfUIqFYCECgD+JrVt0gRyY2A4+bu5UeQdM/miIHoo+63U83/0b1/7Hkle0pBNfnNqJXlzN0/5YvdC8qcHp5GrvnoplQpAQgVguY0Uup0XJLYRMT20ZF7sHEfucXrJ4xP4a2zOfP5i24ejvAp5kMGnmBYPn3pmVPKnnBK3qz1klEoFIKECsNz0/x+QSgUgoQKQUAFIqAAkVAASKgAJFYCECkBCBSChApBQAUioACRUABIqgJ9FBe13wvsWngAAAABJRU5ErkJggg==\" y=\"-22.231168\"/>\n   </g>\n   <g id=\"text_1\">\n    <!-- 5 -->\n    <defs>\n     <path d=\"M 10.796875 72.90625 \nL 49.515625 72.90625 \nL 49.515625 64.59375 \nL 19.828125 64.59375 \nL 19.828125 46.734375 \nQ 21.96875 47.46875 24.109375 47.828125 \nQ 26.265625 48.1875 28.421875 48.1875 \nQ 40.625 48.1875 47.75 41.5 \nQ 54.890625 34.8125 54.890625 23.390625 \nQ 54.890625 11.625 47.5625 5.09375 \nQ 40.234375 -1.421875 26.90625 -1.421875 \nQ 22.3125 -1.421875 17.546875 -0.640625 \nQ 12.796875 0.140625 7.71875 1.703125 \nL 7.71875 11.625 \nQ 12.109375 9.234375 16.796875 8.0625 \nQ 21.484375 6.890625 26.703125 6.890625 \nQ 35.15625 6.890625 40.078125 11.328125 \nQ 45.015625 15.765625 45.015625 23.390625 \nQ 45.015625 31 40.078125 35.4375 \nQ 35.15625 39.890625 26.703125 39.890625 \nQ 22.75 39.890625 18.8125 39.015625 \nQ 14.890625 38.140625 10.796875 36.28125 \nz\n\" id=\"DejaVuSans-53\"/>\n    </defs>\n    <g transform=\"translate(45.839022 16.318125)scale(0.12 -0.12)\">\n     <use xlink:href=\"#DejaVuSans-53\"/>\n    </g>\n   </g>\n  </g>\n  <g id=\"axes_2\">\n   <g clip-path=\"url(#p79975501c8)\">\n    <image height=\"85\" id=\"imagec656b318cb\" transform=\"scale(1 -1)translate(0 -85)\" width=\"85\" x=\"109.095652\" xlink:href=\"data:image/png;base64,\niVBORw0KGgoAAAANSUhEUgAAAFUAAABVCAYAAAA49ahaAAAABHNCSVQICAgIfAhkiAAABN1JREFUeJztm39MlHUcx5/jOPBw5Q+YI9aEIA6otjqFJmuFkyJcLls5ja0uyZYb5siarH9krjVmq1AyqJnl0JlupbXWCktl1w91oFJZiFgM02b2y1GMHx3c9Ufb+/O9dnQHPG/A9nn99TruuXu+e/P53vP98TyOOx3LQpZiK3GT3YD/IxoqAQ2VgIZKQEMloKES0FAJaKgENFQCGioBDZVAPOVLMzPgHWtT4e3Lt8LjjP9n0ArCcz+sgOc09MFDbd/a3UwaWqkENFQCDruW/pyeLLhnzzn486lHIx4/Uvc3aRuUY8r8j4e95yk/MaZ2TgRaqQQ0VAK2Xf0vLZwDfzd1b9TjPx1IgJ8dlBFC+YxuuDdRfhY6Sl4L+/y61tvhTUdugWdXHoutwUS0UgloqAQog3+TgdAQ3HvwCXjWDunarp/+hL9edC989ooL8LVzD4V9b13aF/D3F7fDazJL4VfXz4AnNLWOuu1jRSuVgIZKwL7u7xA1B/b+/mR49srIA/Zhw1POfCcvtonWW56wz1Q9Wwjf56uFH5u3Bz5v9cPwtKYRW247WqkENFQC9nV/YwXBnMtXfl4G91j2zdfTq2VN4clDslz461P98OO3NsKLm1bAp5d22daOSGilEtBQCdAH/y/e9jZ8m5VJOUecvw2e2poEz9skk43TD7wCP3BWJgWbNvjgV+21Z91AK5WAhkqA3v2Tnb1yMmNDcKirm3K+YJ9sFuY8cwqeG78G3rn0VfjONTLZ6DswCz58+fKY26CVSkBDJWBb94+XMbfVE/wLXjhN/t7lS4PP3dht16lHxPwp8FS0yBtLRXdnfgTPq1sNz/Zp959SaKgEbOv+M3fJXPy5yoXwl66RAfX8Elmh/2WjXWcePS6HEx4w1ixK86R934/j+7VSCWioBDRUApQZ1dcb5OaG4PYj8DfSP4HfdZ/McNzvGcOdCSAQkg0cc+13OOSIdPio0UoloKESoHR/t1/uel7ScT/8g9z98O11m+Erpz0Nn/XZD/DQdDd8uHM8g5yJRSuVgIZKgNL9zYUMZ9V18AXVcnNDS/5ueG1NPfxw7w3w/VsXwZMnoPu3XEyHz7E6xvw9WqkENFQC9O2U0AkZCaTUeuGdjbLm6k2MN/wbuP/BbLjzHdnqsCzL+v2eHPhvN8mg3VN/Hj50/oIVjUvDg/DkLUn/cWTsaKUS0FAJ2PYc1WgZWjQf/vKbcqODx5UQ6XCr/Fxx2OvjB/Pgp1bJ55v7Zf/mhfKH4D1Z8veWGtlNLTi5HD57SWdMbY+GVioBDZUA/eo/4okPy22VZV8+Cm8t2BnxeHPZ0LIsK26VPFhhLt8VuWXisT5f1g5uXHYaHrb0R/jx00oloKESmLTub3Kt70d4yR2yI7Bu81vwxUmx3dxQ/XMB3NUrfXtHxsfGUVJLf7TLgx4pMZ0hOlqpBDRUApM2+I+FQEk+vKphV9h7xcZV3rz6dwUC8J5gItx8Ivvux+TBC3ez3G4ZHBgYZ4v/QSuVgIZKYEp3f5NgkTfs9ZbGBvj1ruiDmDMBGfCvz1hgX8MioJVKQEMlcMV0/39jLh1erJDV+68K5dHJm48+Ak+rlyVFZ/NJatu0UgloqASu2O4/ldFKJaChEtBQCWioBDRUAhoqAQ2VgIZKQEMloKES0FAJ/A1tsSYIs1vVAwAAAABJRU5ErkJggg==\" y=\"-22.231168\"/>\n   </g>\n   <g id=\"text_2\">\n    <!-- 0 -->\n    <defs>\n     <path d=\"M 31.78125 66.40625 \nQ 24.171875 66.40625 20.328125 58.90625 \nQ 16.5 51.421875 16.5 36.375 \nQ 16.5 21.390625 20.328125 13.890625 \nQ 24.171875 6.390625 31.78125 6.390625 \nQ 39.453125 6.390625 43.28125 13.890625 \nQ 47.125 21.390625 47.125 36.375 \nQ 47.125 51.421875 43.28125 58.90625 \nQ 39.453125 66.40625 31.78125 66.40625 \nz\nM 31.78125 74.21875 \nQ 44.046875 74.21875 50.515625 64.515625 \nQ 56.984375 54.828125 56.984375 36.375 \nQ 56.984375 17.96875 50.515625 8.265625 \nQ 44.046875 -1.421875 31.78125 -1.421875 \nQ 19.53125 -1.421875 13.0625 8.265625 \nQ 6.59375 17.96875 6.59375 36.375 \nQ 6.59375 54.828125 13.0625 64.515625 \nQ 19.53125 74.21875 31.78125 74.21875 \nz\n\" id=\"DejaVuSans-48\"/>\n    </defs>\n    <g transform=\"translate(147.734674 16.318125)scale(0.12 -0.12)\">\n     <use xlink:href=\"#DejaVuSans-48\"/>\n    </g>\n   </g>\n  </g>\n  <g id=\"axes_3\">\n   <g clip-path=\"url(#p578bac56b0)\">\n    <image height=\"85\" id=\"image2681342f7c\" transform=\"scale(1 -1)translate(0 -85)\" width=\"85\" x=\"210.991304\" xlink:href=\"data:image/png;base64,\niVBORw0KGgoAAAANSUhEUgAAAFUAAABVCAYAAAA49ahaAAAABHNCSVQICAgIfAhkiAAAA3lJREFUeJztnFtIk3EYxr9vs+mMQptKmlImiEEHg0Z0ooR1LVF54UVQSlHdJAVdSRdF3XrhjV1GXWWwUlAiw0MRtcoipANWHio8lJSgC3Wuu/f9BsI29z1bjud39Wx8+/9fnj3vt/++k+kzj4UNYiuOVBeQjtBUADQVAE0FQFMB0FQANBUATQWQkeoC7GasYa/o15eaRVf0nBK9ufYNtAYmFQBNBZB27Z/pmxTtNFOTGSYVAE0FkHbtbyUUXkzJvEwqAJoKIK3b30p2IDtpczGpAGgqgLRu/4jFfxIXAkwqAJoKIK3b37r4z/00n7R5mVQANBUATQVAUwHQVABp/etvZbjaFF3egZ2LSQVAUwHE3f5fb+wRXeL9vuyJJzuKRXsGdGHu6gwse0zDMIzZ3nx9UanyWtU90beMkoTmiAaTCoCmAoip/Qdv7xT9oUovpXk/r237YLrSiMZlz4Boxxb9NQ6G50T/CIVEN08eEt32dkfEWDn9LtGFD8dFFze9Eh04o7czVK/WXRXbfwVCUwHE1P6ZWdrmDkPb9uT1BtF5N59FHafnQL3osFPHGfVlip4rsszl0l3BI19TxFirDqseu6ifb/xyRHS+M6jbm7qN6d2mdQTeRa07XphUADQVAE0FkNABFfdUfKcoHX39S76/qTv6Z88Z+yNeO/M8osePloteV/NNtUMzk2E4dfvda0QXJPYHbkmYVAA0FUBC7T+xS7+T0taEa4mL0M9fovNaLMu5FpUH/XWi+713RJ897xftv7tVxxyfsKU2JhUATQUQU/svDOqvpaGHU42sit9212MrJRdmRD99rPmpW6srBH+O3ndlsP3/X2gqgJjaf2O7HpiYqJ2FFWM3C0MjolunvKL3FT4XHSzNFe36aM+8TCoAmgogpvZ3PNG7jvv+boAVg2RoxrPk+6M+PSZQ1mnPXEwqAJoKIO7//vPhlXn51UK95T6qbpXusmnb52JSAdBUAHH38pX246Kzy/7YWgyS0Odh0dbnqZze3ie6y6vHARI5y8qkAqCpAOJu/6JePdkXHMixtRgoi3phhjniFt21vkK3CdvzKFkmFQBNBRB3+7vvv1BtaynJo+Cl7sIaa9pEXzVO2DI+kwqApgIw+fR0+2FSAdBUADQVAE0FQFMB0FQANBUATQVAUwHQVAA0FQBNBUBTAdBUAP8AA3apeqp3XVEAAAAASUVORK5CYII=\" y=\"-22.231168\"/>\n   </g>\n   <g id=\"text_3\">\n    <!-- 4 -->\n    <defs>\n     <path d=\"M 37.796875 64.3125 \nL 12.890625 25.390625 \nL 37.796875 25.390625 \nz\nM 35.203125 72.90625 \nL 47.609375 72.90625 \nL 47.609375 25.390625 \nL 58.015625 25.390625 \nL 58.015625 17.1875 \nL 47.609375 17.1875 \nL 47.609375 0 \nL 37.796875 0 \nL 37.796875 17.1875 \nL 4.890625 17.1875 \nL 4.890625 26.703125 \nz\n\" id=\"DejaVuSans-52\"/>\n    </defs>\n    <g transform=\"translate(249.630326 16.318125)scale(0.12 -0.12)\">\n     <use xlink:href=\"#DejaVuSans-52\"/>\n    </g>\n   </g>\n  </g>\n  <g id=\"axes_4\">\n   <g clip-path=\"url(#p9fda795f1d)\">\n    <image height=\"85\" id=\"imaged86e274c7d\" transform=\"scale(1 -1)translate(0 -85)\" width=\"85\" x=\"312.886957\" xlink:href=\"data:image/png;base64,\niVBORw0KGgoAAAANSUhEUgAAAFUAAABVCAYAAAA49ahaAAAABHNCSVQICAgIfAhkiAAAAzlJREFUeJztm11IU2EYxzd1os2bQmTVpkWggiIFRm0UGiVFFxUypbqzrvq0TyjwoqsuIvqQApMgCE3KBOsuCCKKyIoC00lhYX5QIWqEhji3dfe87xmbDDr/7bj+v6vf4byyhz/P43l3zo59m90fsRFTyUh1AekIQwXAUAEwVAAMFQBDBcBQATBUAFnwD1hdJO7qmBBv8TwXfzBdIH63xIMuCQ47FQBDBQAf/99rXeKd7k7tTCb6o1MGOxUAQwXAUAEwVAAMFQD86p8zOSf+ctYpviV3Vnz7kmHxptZa8dKTAfHwzAyqRNNhpwJgqADsyXzwN/KwXDzgaxMPRkIx1++u2SceCnzGFWYy7FQADBUA/Oqv4/H3iQfH1MjHG//v1fniBRz//xuGCiCp46/zYS4sXu6Ivcbb8F58qGOp4VxoagpSlxmwUwEwVABJ3fzrhKvWiR9s7Rbf5fwZc31N317Dcd6Or5jCTICdCoChAkjZ+Ot8aVf/CnqrbiX0N7V7DohH3vUtsDL5sFMBMFQAKdv86xRf/CPuqE7s9wDD55R7/GZX9G+wUwEwVACWGP9Q/ydxX9NR8fYLl8XdmcYbBF73kPiPVYXi80PDtlTDTgXAUAEwVACW+EYVj9HzPvG3R64ZzjnsautVN7hTfM6v7tOGxseB1cWHnQqAoQKw9PhnlpWIr79nvGnSlN8rrj+Nrbh/XHzN6dfA6uLDTgXAUAFYevx1stwrDcfdPY/F9fEfCKo1jWeOiTu7enDFRcFOBcBQAVjihkoizI+OGY7LXjSI92++I16RrdYUnlK/v5rowtUWDTsVAEMFsGjGP5rlbTnizyqVb8pRL1zcLnoi7m08Ie66/gpaGzsVAEMFsGg2/wsxXbdB/OalZvFih1285Vep+NP6SvHIN7WrMOtdLXYqAIYKIC3GX2fwykbxj/XNMdfoTw22Hj4knvvojSk1sFMBMFQAi3bzH4+8EdUnk2H1BveyjOxYyyGwUwEwVABpN/6uq+p7ffWKs+ID+2+I61d/m/p+YBrsVAAMFUDabf6tADsVAEMFwFABMFQADBUAQwXAUAEwVAAMFQBDBcBQATBUAAwVAEMF8BfiT6WLuU68TwAAAABJRU5ErkJggg==\" y=\"-22.231168\"/>\n   </g>\n   <g id=\"text_4\">\n    <!-- 1 -->\n    <defs>\n     <path d=\"M 12.40625 8.296875 \nL 28.515625 8.296875 \nL 28.515625 63.921875 \nL 10.984375 60.40625 \nL 10.984375 69.390625 \nL 28.421875 72.90625 \nL 38.28125 72.90625 \nL 38.28125 8.296875 \nL 54.390625 8.296875 \nL 54.390625 0 \nL 12.40625 0 \nz\n\" id=\"DejaVuSans-49\"/>\n    </defs>\n    <g transform=\"translate(351.525978 16.318125)scale(0.12 -0.12)\">\n     <use xlink:href=\"#DejaVuSans-49\"/>\n    </g>\n   </g>\n  </g>\n </g>\n <defs>\n  <clipPath id=\"p79d3235735\">\n   <rect height=\"84.913043\" width=\"84.913043\" x=\"7.2\" y=\"22.318125\"/>\n  </clipPath>\n  <clipPath id=\"p79975501c8\">\n   <rect height=\"84.913043\" width=\"84.913043\" x=\"109.095652\" y=\"22.318125\"/>\n  </clipPath>\n  <clipPath id=\"p578bac56b0\">\n   <rect height=\"84.913043\" width=\"84.913043\" x=\"210.991304\" y=\"22.318125\"/>\n  </clipPath>\n  <clipPath id=\"p9fda795f1d\">\n   <rect height=\"84.913043\" width=\"84.913043\" x=\"312.886957\" y=\"22.318125\"/>\n  </clipPath>\n </defs>\n</svg>\n"
          },
          "metadata": {
            "tags": []
          }
        }
      ]
    },
    {
      "cell_type": "code",
      "metadata": {
        "id": "DBDWRkh529Vi",
        "colab_type": "code",
        "colab": {
          "base_uri": "https://localhost:8080/",
          "height": 85
        },
        "outputId": "16cf9be4-5621-4527-9ed7-1806eb4b3c32"
      },
      "source": [
        "print(f'train images: {x_train.shape}')\n",
        "print(f'train labels: {y_train.shape}')\n",
        "print(f'train images: {x_test.shape}')\n",
        "print(f'train labels: {y_test.shape}')"
      ],
      "execution_count": null,
      "outputs": [
        {
          "output_type": "stream",
          "text": [
            "train images: (60000, 28, 28)\n",
            "train labels: (60000,)\n",
            "train images: (10000, 28, 28)\n",
            "train labels: (10000,)\n"
          ],
          "name": "stdout"
        }
      ]
    },
    {
      "cell_type": "code",
      "metadata": {
        "id": "yXK55Ox43VrP",
        "colab_type": "code",
        "colab": {}
      },
      "source": [
        "# prepocessing\n",
        "x_train = x_train.reshape(60000, 784) / 255\n",
        "x_test = x_test.reshape(10000, 784) / 255"
      ],
      "execution_count": null,
      "outputs": []
    },
    {
      "cell_type": "code",
      "metadata": {
        "id": "imzwxQAE3nC0",
        "colab_type": "code",
        "colab": {
          "base_uri": "https://localhost:8080/",
          "height": 34
        },
        "outputId": "9b6dbf58-07ea-441e-bf36-7d66707ceee7"
      },
      "source": [
        "y_train[:4]"
      ],
      "execution_count": null,
      "outputs": [
        {
          "output_type": "execute_result",
          "data": {
            "text/plain": [
              "array([5, 0, 4, 1], dtype=uint8)"
            ]
          },
          "metadata": {
            "tags": []
          },
          "execution_count": 38
        }
      ]
    },
    {
      "cell_type": "code",
      "metadata": {
        "id": "h9KWU3vx3s2f",
        "colab_type": "code",
        "colab": {}
      },
      "source": [
        ""
      ],
      "execution_count": null,
      "outputs": []
    }
  ]
}